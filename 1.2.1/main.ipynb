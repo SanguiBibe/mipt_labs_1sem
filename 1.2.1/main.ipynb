{
 "cells": [
  {
   "cell_type": "code",
   "execution_count": 1,
   "id": "544461ba-8f99-454c-a663-3ebf63d689d8",
   "metadata": {},
   "outputs": [],
   "source": [
    "import numpy as np"
   ]
  },
  {
   "cell_type": "code",
   "execution_count": 2,
   "id": "82c812a9-124f-4f3b-8e76-de6a11a5dc2e",
   "metadata": {},
   "outputs": [],
   "source": [
    "m_bullets = np.array([0.514, 0.512, 0.512, 0.504, 0.512])\n",
    "dx = np.array([10.50, 11.50, 11.00, 10.75, 11.25])\n",
    "dx = 0.001 * dx\n",
    "L = 2.212\n",
    "M = np.array([2905] * 5)\n",
    "g = 9.8"
   ]
  },
  {
   "cell_type": "code",
   "execution_count": 3,
   "id": "d21495fe-575a-4af1-9125-626d516694cd",
   "metadata": {},
   "outputs": [],
   "source": [
    "def speed(m, M, dx, g, L):\n",
    "    return (np.sqrt(g/L)*M*dx)/ m"
   ]
  },
  {
   "cell_type": "code",
   "execution_count": 4,
   "id": "b3bc5a85-a505-4bca-86ad-583919b2a8ed",
   "metadata": {},
   "outputs": [],
   "source": [
    "u = speed(m_bullets, M, dx, g, L)"
   ]
  },
  {
   "cell_type": "code",
   "execution_count": 5,
   "id": "39f874bd-6a1e-4a6b-af8c-4ab6d8fde880",
   "metadata": {},
   "outputs": [
    {
     "data": {
      "text/plain": [
       "array([124.91, 137.34, 131.37, 130.42, 134.35])"
      ]
     },
     "execution_count": 5,
     "metadata": {},
     "output_type": "execute_result"
    }
   ],
   "source": [
    "u = speed(m_bullets, M, dx, g, L)\n",
    "u = np.round(u, 2)\n",
    "u"
   ]
  },
  {
   "cell_type": "code",
   "execution_count": 6,
   "id": "bd840c4e-ee9c-41f2-ad8c-62b21fb32a83",
   "metadata": {},
   "outputs": [
    {
     "name": "stdout",
     "output_type": "stream",
     "text": [
      "131.678\n"
     ]
    }
   ],
   "source": [
    "print(np.mean(u))"
   ]
  },
  {
   "cell_type": "code",
   "execution_count": 7,
   "id": "24d63f4f-ab63-4d6f-af76-eba8d5d9d8ef",
   "metadata": {},
   "outputs": [],
   "source": [
    "def sigma(u):\n",
    "    return np.sqrt(0.2*np.sum(np.power(u-np.mean(u),2)))"
   ]
  },
  {
   "cell_type": "code",
   "execution_count": 8,
   "id": "242f2806-9bdf-4fec-b335-ec997b09de10",
   "metadata": {},
   "outputs": [
    {
     "name": "stdout",
     "output_type": "stream",
     "text": [
      "4.16\n"
     ]
    }
   ],
   "source": [
    "print(np.round(sigma(u), 2))"
   ]
  },
  {
   "cell_type": "code",
   "execution_count": 9,
   "id": "45db6f29-1887-400d-97e5-dfb7504091dd",
   "metadata": {},
   "outputs": [
    {
     "data": {
      "text/plain": [
       "0.03"
      ]
     },
     "execution_count": 9,
     "metadata": {},
     "output_type": "execute_result"
    }
   ],
   "source": [
    "e_u = np.round(4 / 132, 2)\n",
    "e_u"
   ]
  },
  {
   "cell_type": "markdown",
   "id": "0707465a-3028-4d28-a999-8d6da5109233",
   "metadata": {},
   "source": [
    "$$ u = 132 \\pm 4 \\textrm{ м/c}$$"
   ]
  },
  {
   "cell_type": "code",
   "execution_count": 10,
   "id": "47b9adff-15c3-4717-9712-befee5ea1c86",
   "metadata": {},
   "outputs": [
    {
     "name": "stdout",
     "output_type": "stream",
     "text": [
      "0.011000000000000001\n"
     ]
    }
   ],
   "source": [
    "print(np.mean(dx))"
   ]
  },
  {
   "cell_type": "code",
   "execution_count": 11,
   "id": "395774ac-ee91-47a5-9535-3a52f1be669e",
   "metadata": {},
   "outputs": [
    {
     "name": "stdout",
     "output_type": "stream",
     "text": [
      "0.5590169943749475\n"
     ]
    }
   ],
   "source": [
    "print(np.sqrt(np.power(0.5, 2) + np.power(0.25, 2)))"
   ]
  },
  {
   "cell_type": "code",
   "execution_count": 12,
   "id": "81c2cf17-35d7-48bc-a440-9292ff4be942",
   "metadata": {},
   "outputs": [
    {
     "data": {
      "text/plain": [
       "0.051"
      ]
     },
     "execution_count": 12,
     "metadata": {},
     "output_type": "execute_result"
    }
   ],
   "source": [
    "e_dx =np.round(0.56 / 11, 3)\n",
    "e_dx"
   ]
  },
  {
   "cell_type": "markdown",
   "id": "d9e1bdb5-0ae9-45bd-9268-d0da9826840c",
   "metadata": {},
   "source": [
    "$$ dx = 11.00 \\pm 0.56 \\textrm{ мм}$$"
   ]
  },
  {
   "cell_type": "code",
   "execution_count": 13,
   "id": "7fdece16-3d47-4a6f-aa78-0f711df4970f",
   "metadata": {},
   "outputs": [
    {
     "data": {
      "text/plain": [
       "0.009789027275955778"
      ]
     },
     "execution_count": 13,
     "metadata": {},
     "output_type": "execute_result"
    }
   ],
   "source": [
    "e_m = np.mean(0.005 / m_bullets)\n",
    "e_m"
   ]
  },
  {
   "cell_type": "markdown",
   "id": "0a015475-19e8-40de-a22c-129a421a9727",
   "metadata": {},
   "source": [
    "$$ \\sigma_{m} = 0.005 \\textrm{ г}$$"
   ]
  },
  {
   "cell_type": "markdown",
   "id": "85925c5f-9628-408b-8a4e-cb334089777c",
   "metadata": {},
   "source": [
    "$$ L = 221.2 \\pm 0.05 \\textrm{ см}$$"
   ]
  },
  {
   "cell_type": "code",
   "execution_count": 14,
   "id": "c95e73f9-b21a-45fd-99b1-822a841159e7",
   "metadata": {},
   "outputs": [
    {
     "data": {
      "text/plain": [
       "0.00022603978300180834"
      ]
     },
     "execution_count": 14,
     "metadata": {},
     "output_type": "execute_result"
    }
   ],
   "source": [
    "e_L = 0.05 / 221.2\n",
    "e_L"
   ]
  },
  {
   "cell_type": "code",
   "execution_count": 15,
   "id": "c7e88c88-0e93-48ea-80c8-e371af02b843",
   "metadata": {},
   "outputs": [
    {
     "data": {
      "text/plain": [
       "0.0017211703958691911"
      ]
     },
     "execution_count": 15,
     "metadata": {},
     "output_type": "execute_result"
    }
   ],
   "source": [
    "e_M = 5 / 2905\n",
    "e_M"
   ]
  },
  {
   "cell_type": "code",
   "execution_count": 19,
   "id": "323f096d-11a4-44f2-a80e-81f71aae9bd6",
   "metadata": {},
   "outputs": [
    {
     "data": {
      "text/plain": [
       "0.0016809215590034546"
      ]
     },
     "execution_count": 19,
     "metadata": {},
     "output_type": "execute_result"
    }
   ],
   "source": [
    "sigma_sqrt_L = 0.05*1/(2*np.sqrt(221.2))\n",
    "sigma_sqrt_L"
   ]
  },
  {
   "cell_type": "code",
   "execution_count": 20,
   "id": "dacc8bd9-e9d6-46f9-b644-b742e166f36c",
   "metadata": {},
   "outputs": [
    {
     "data": {
      "text/plain": [
       "0.00011301989150090417"
      ]
     },
     "execution_count": 20,
     "metadata": {},
     "output_type": "execute_result"
    }
   ],
   "source": [
    "e_sqrt_L = sigma_sqrt_L / np.sqrt(221.2)\n",
    "e_sqrt_L"
   ]
  },
  {
   "cell_type": "code",
   "execution_count": 21,
   "id": "a0a258f0-b316-4ba5-9e5f-66bb28bc3373",
   "metadata": {},
   "outputs": [
    {
     "data": {
      "text/plain": [
       "0.05195960215433618"
      ]
     },
     "execution_count": 21,
     "metadata": {},
     "output_type": "execute_result"
    }
   ],
   "source": [
    "epsilon_total = np.sqrt(np.power(e_m,2) + np.power(e_M,2) + np.power(e_sqrt_L, 2) + np.power(e_dx, 2))\n",
    "epsilon_total"
   ]
  },
  {
   "cell_type": "markdown",
   "id": "d6c120a9-2a58-4691-8601-4318ce585216",
   "metadata": {},
   "source": [
    "$$ \\epsilon_{total} = 5.2 \\% $$"
   ]
  },
  {
   "cell_type": "code",
   "execution_count": 23,
   "id": "57ac14e5-f63f-48e9-ac3b-fc13867b89fe",
   "metadata": {},
   "outputs": [
    {
     "data": {
      "text/plain": [
       "6.864"
      ]
     },
     "execution_count": 23,
     "metadata": {},
     "output_type": "execute_result"
    }
   ],
   "source": [
    "132 * 0.052"
   ]
  },
  {
   "cell_type": "markdown",
   "id": "017b4058-4cf8-4d20-8a3b-99957ee5b232",
   "metadata": {},
   "source": [
    "$$ u = 132 \\pm 7 $$"
   ]
  },
  {
   "cell_type": "code",
   "execution_count": 29,
   "id": "2f593175-9e54-4bb6-96c8-540365359b43",
   "metadata": {},
   "outputs": [
    {
     "data": {
      "text/plain": [
       "array([4.00984458, 4.82874255, 4.41806769, 4.28636285, 4.62078016])"
      ]
     },
     "execution_count": 29,
     "metadata": {},
     "output_type": "execute_result"
    }
   ],
   "source": [
    "K = (0.001*m_bullets * np.power(u,2)) / 2\n",
    "K"
   ]
  },
  {
   "cell_type": "code",
   "execution_count": 30,
   "id": "7ec5fd5a-2b8f-49c0-a458-3ba9305bf1e0",
   "metadata": {},
   "outputs": [
    {
     "data": {
      "text/plain": [
       "4.4327595669"
      ]
     },
     "execution_count": 30,
     "metadata": {},
     "output_type": "execute_result"
    }
   ],
   "source": [
    "K_mean = np.mean(K)\n",
    "K_mean"
   ]
  },
  {
   "cell_type": "code",
   "execution_count": 31,
   "id": "bee25623-bc62-47f1-887d-2401e84b3234",
   "metadata": {},
   "outputs": [
    {
     "data": {
      "text/plain": [
       "0.2802353308004354"
      ]
     },
     "execution_count": 31,
     "metadata": {},
     "output_type": "execute_result"
    }
   ],
   "source": [
    "sigma_K = sigma(K)\n",
    "sigma_K"
   ]
  },
  {
   "cell_type": "code",
   "execution_count": 32,
   "id": "5777831f-cfcc-461a-b81c-74e19d7b2e70",
   "metadata": {},
   "outputs": [
    {
     "data": {
      "text/plain": [
       "array([1748.74, 1922.76, 1839.18, 1825.88, 1880.9 ])"
      ]
     },
     "execution_count": 32,
     "metadata": {},
     "output_type": "execute_result"
    }
   ],
   "source": [
    "sigma_v2 = 2 * u * 7\n",
    "sigma_v2"
   ]
  },
  {
   "cell_type": "code",
   "execution_count": 36,
   "id": "f0620d30-655d-4fd4-90dd-e92f9d39455e",
   "metadata": {},
   "outputs": [
    {
     "data": {
      "text/plain": [
       "0.1064275323906136"
      ]
     },
     "execution_count": 36,
     "metadata": {},
     "output_type": "execute_result"
    }
   ],
   "source": [
    "e_v2 = sigma_v2 / np.power(u,2)\n",
    "e_v2 =np.mean(epsilon_v2)\n",
    "e_v2"
   ]
  },
  {
   "cell_type": "code",
   "execution_count": 38,
   "id": "bd5c19c7-1a09-4cb6-9a98-e562cb67de55",
   "metadata": {},
   "outputs": [
    {
     "data": {
      "text/plain": [
       "0.10687677346254663"
      ]
     },
     "execution_count": 38,
     "metadata": {},
     "output_type": "execute_result"
    }
   ],
   "source": [
    "e_tot = np.sqrt(np.power(e_m,2) + np.power(e_v2,2))\n",
    "e_tot"
   ]
  },
  {
   "cell_type": "code",
   "execution_count": 40,
   "id": "c8e799a9-4eb8-43ae-b324-dbdcf35227a5",
   "metadata": {},
   "outputs": [
    {
     "data": {
      "text/plain": [
       "0.48729999999999996"
      ]
     },
     "execution_count": 40,
     "metadata": {},
     "output_type": "execute_result"
    }
   ],
   "source": [
    "4.43 * 0.11"
   ]
  },
  {
   "cell_type": "markdown",
   "id": "34a6645f-8444-4e23-934f-ef67676e0e91",
   "metadata": {},
   "source": [
    "$$ K = 4.43 \\pm 0.49 $$"
   ]
  }
 ],
 "metadata": {
  "kernelspec": {
   "display_name": "Python 3 (ipykernel)",
   "language": "python",
   "name": "python3"
  },
  "language_info": {
   "codemirror_mode": {
    "name": "ipython",
    "version": 3
   },
   "file_extension": ".py",
   "mimetype": "text/x-python",
   "name": "python",
   "nbconvert_exporter": "python",
   "pygments_lexer": "ipython3",
   "version": "3.11.5"
  }
 },
 "nbformat": 4,
 "nbformat_minor": 5
}
