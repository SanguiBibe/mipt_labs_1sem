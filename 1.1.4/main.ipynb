{
 "cells": [
  {
   "cell_type": "markdown",
   "id": "053c8167-3a82-4bc4-99bd-3311d2d6a04a",
   "metadata": {},
   "source": [
    "\n",
    "# Отчет о выполнении лабораторной работы 1.1.4\n",
    "\n",
    "# Изучение статистических закономерностей на примерее фона космического излучения"
   ]
  },
  {
   "cell_type": "markdown",
   "id": "5f85e168-00e0-48f5-a07d-773d6a408c1a",
   "metadata": {},
   "source": [
    "# Содержание \n",
    "\n",
    "- [Введение](#Введение)\n",
    "- [Теоретическая часть](#Теоретическая_часть)\n",
    "   - [Природа космических лучей](#Природа_космических_лучей)\n",
    "   - [Устройство счетчика Гейгера-Мюллера](#Устройство_счетчика_Гейгера-Мюллера)\n",
    "   - [Статистические понятия и описание эксперимента](#Статистические_понятия_и_описание_эксперимента)\n",
    "- [Ход работы](#Ход_работы)\n",
    "   - [Демонстрационный эксперимент](#Демонстрационный_эксперимент)\n",
    "   - [Построение гистограмм](#Построение_гистограмм)\n",
    "   - [Расчеты](#Расчеты)\n",
    "- [Вывод](#Вывод)"
   ]
  },
  {
   "cell_type": "markdown",
   "id": "ae870eb6-10ae-40d5-ae79-fceb2bf12ad7",
   "metadata": {},
   "source": [
    "\n",
    "## 1. Введение <a name=\"Введение\"></a>\n",
    "\n",
    "### Цель:  \n",
    "Познакомиться с основными понятиями стастистики, изучить статистические закономерности однородного во времени случайного процесса, \n",
    "проверить возможность описания исследуемого процесса статистическими законами Пуассона и Гаусса,  \n",
    "измерить среднеее число регистрируемых космических лучей в секунду и определить погрешность результата\n",
    "\n",
    "### Оборудование:\n",
    "Счётчик Гейгера-Мюллера СТС-6, компьютер с интерфейсом для связи с счетчиком"
   ]
  },
  {
   "cell_type": "markdown",
   "id": "59c7300f-cf67-4546-82de-7a2769171cb6",
   "metadata": {},
   "source": [
    "\n",
    "## 2. Теоретическая часть <a name=\"Теоретическая_часть\"></a>\n",
    "\n",
    "### Природа космических лучей <a name=\"Природа_космических_лучей\"></a>\n"
   ]
  },
  {
   "cell_type": "markdown",
   "id": "7f65050b-9389-4f0e-a2e6-4948dd59b4f0",
   "metadata": {},
   "source": [
    "Первичные космические лучи - это поток стабильных частиц, имеющих большую $Е_к$, которая составляет от $10^9$ до $10^{21}$ эВ \n",
    "(1 эВ $= 1,6*10^{-19}$ Дж)\n",
    "\n",
    "В состав первичных космических лучей входят: протоны (92%), ядра гелия (6,6%) и более тяжелые ядра вплоть до никеля (0,8%).\n",
    "Электронов и позитронов набирается примерно 1%, причем позитронов в 10 раз меньше, чем электронов. Число $\\gamma $-квантов с энергиями больше $10^8$ эВ составляет всего 0,01%."
   ]
  },
  {
   "cell_type": "markdown",
   "id": "b5cea41c-b01c-4246-a902-18881538e311",
   "metadata": {},
   "source": [
    "Помимо первичных, существуют и вторичные космические лучи, которые образуются из первичных взаимодействуя с ядрами атомов атмосферных газов и образуют вторичные космические лучи. Именно вторичные протоны, мюоны и нейтроны образуют *жесткую* компоненту вторичных космических лучей, которая проходит через свинцовую пластинку толщиной в 10 см."
   ]
  },
  {
   "cell_type": "markdown",
   "id": "720f8acc-8448-411f-bd49-8be1f499fd60",
   "metadata": {},
   "source": [
    "Обратным образом определяется и *мягкая* компонента вторичных космических лучей, состоящая из электронов, позитронов и фотонов. *Мягкая* компонента существует в атмосфере вблизи поверхности Земли лишь благодаря тому, что она генерируется *жесткой*."
   ]
  },
  {
   "cell_type": "markdown",
   "id": "03652381-380a-4dc6-b18e-f80308e57a15",
   "metadata": {},
   "source": [
    "Космические лучи и естественная радиоактивность Земли и воздуха являются основными источниками ионов в нижней части атмосферы земли (до высот порядка 60 км). Поэтому ионизация в атмосфере сначала падает, а выше 1 км начинает возрастать."
   ]
  },
  {
   "cell_type": "markdown",
   "id": "7b7ed738-ca78-4046-96d7-05ab43ad27da",
   "metadata": {},
   "source": [
    "\n",
    "### Устройство счетчика Гейгера-Мюллера <a name=\"Устройство_счетчика_Гейгера-Мюллера\"></a>\n"
   ]
  },
  {
   "cell_type": "markdown",
   "id": "0bb2d9cc-1044-4370-9707-859cdcd66845",
   "metadata": {},
   "source": [
    "Счетчик СТС-6 представляет собой тонкостенный металлический цилиндр (катод), который заполнен газом, с натянутой вдоль его оси нити (анод). На электроды подается напряжение в 400В. Проходящие сквозь счетчик частицы космических лучей ионизируют газ в счетчике, а также выбивает электроны из его стенок. Все эти электроны ускоряются в сильном электрическом поле между электродами, соударяются с другими молекулами газа, выбивая из них вторичные электроны, которые так же ускоряются в электрическом поле и могут ионизировать другие молекулы газа."
   ]
  },
  {
   "cell_type": "markdown",
   "id": "107386dc-498d-4f3a-b8d6-2b1b41d40cb9",
   "metadata": {},
   "source": [
    "Таким образом создается лавина электронов и через счетчик резко увеличивается ток."
   ]
  },
  {
   "cell_type": "markdown",
   "id": "e7da31c1-84ec-46e6-9a00-43abf201d02c",
   "metadata": {},
   "source": [
    "Компьютер подключен к счетчику согласно следующей схеме:"
   ]
  },
  {
   "cell_type": "markdown",
   "id": "093d4711-1927-44e3-848d-437a6673d004",
   "metadata": {},
   "source": [
    "<img alt=\"Схема включения счетчика\" src=\"./image.png\" style=\"height: 500px; position: relative; left: 0px;\"/>"
   ]
  },
  {
   "cell_type": "markdown",
   "id": "f838fd43-2b7f-467f-9005-3498f0ce5c15",
   "metadata": {},
   "source": [
    "Заряд на счетчике и $C_1$ обеспечивает развитие лавины электронов на короткое время, а через $C_2$ в компьютер передается короткий импульс."
   ]
  },
  {
   "cell_type": "markdown",
   "id": "de5c619b-0823-4331-bebe-3fe38c18f722",
   "metadata": {},
   "source": [
    "### Статистические понятия и описание эксперимента <a name=\"Статистические_понятия_и_описание_эксперимента\"></a>"
   ]
  },
  {
   "cell_type": "markdown",
   "id": "5487bb02-fbab-4ace-bf7d-263bdfa0be36",
   "metadata": {},
   "source": [
    "Процесс называется *Пуассоновским*, если случайные события однородны по времени и каждое последующее событие не зависит от предыдущего. Соответственно говорят, что результаты такого процесса подчиняются *распределению Пуассона*."
   ]
  },
  {
   "cell_type": "markdown",
   "id": "d70b3838-5309-4795-9f19-cda85a3a172e",
   "metadata": {},
   "source": [
    "Из теории вероятностей выводится формула для такого распределения:\n",
    "$$P_n = \\frac{\\nu t}{n!} e^{-\\nu t}$$"
   ]
  },
  {
   "cell_type": "markdown",
   "id": "dfa4b5fb-6135-4596-830f-58a8b4571709",
   "metadata": {},
   "source": [
    "Для распределения Пуассона справедливо: $\\sigma = \\sqrt{n_o}$  \n",
    "где $\\sigma$ - квадратичная ошибка числа отсчетов, а $n_o$ - среднее число отсчетов за тот же интервал."
   ]
  },
  {
   "cell_type": "markdown",
   "id": "9fcd3cf3-16b5-4b3d-8ab1-652746738e06",
   "metadata": {},
   "source": [
    "Но поскольку мы не знаем истинное среднее значение измеряемой величины, поэтому вместо $n_o$   \n",
    "мы используем измеренное значение $\\overline n$, то есть: $\\sigma = \\sqrt{n}$\n"
   ]
  },
  {
   "cell_type": "markdown",
   "id": "52828b5f-bfb6-49b3-9dd4-c0723829ae52",
   "metadata": {},
   "source": [
    "Тогда результат измерений записывается в виде: $n_o = n \\pm \\sqrt{\\overline n}$"
   ]
  },
  {
   "cell_type": "markdown",
   "id": "009ebd9e-e070-435b-9586-daa899b23eee",
   "metadata": {},
   "source": [
    "Пусть было проведено N измерений, в результате которых были получены числа частиц $n_1, n_2, ..., n_N$. Тогда:\n",
    "$$\\overline n = \\frac{1}{N}\\sum_{i=1}^{N} n_i$$\n",
    "$$\\sigma_{отд} = \\sqrt{\\frac{1}{N} \\sum_{i=1}^{N} (n_i - \\overline n)^2}$$"
   ]
  },
  {
   "cell_type": "markdown",
   "id": "50d4cb82-3563-4649-9649-ca271e4e9deb",
   "metadata": {},
   "source": [
    "Полученное из первой формулы значение $\\overline n$ путем усреднения результатов по серии из N опытов не вполне точно совпадает с истинным средним значение $n_o$ и сама является случайной величиной. Теория вероятностей показывает, что стаднартная ошибка отклонения $\\overline n$ от $n_o$ может быть определена следующим образом:\n",
    "$$\\sigma_{\\overline n} = \\frac{1}{N} \\sqrt{\\sum_{i=1}^{N} (n_i - \\overline n)^2} = \\frac{\\sigma_{отд}}{\\sqrt{N}}$$"
   ]
  },
  {
   "cell_type": "markdown",
   "id": "5bf67dfe-7a77-4003-b22e-e9bd06920884",
   "metadata": {},
   "source": [
    "Однако наибольший интерес представляет не абсолютная, а относительная точность измерений. Для той же серии из N измерений относительная ошибка отдельного измерения и относительная ошибка в определении среднего по всем измерениям значения $\\overline n$ равны соответственно:\n",
    "$$\\epsilon_{отд} = \\frac{\\sigma_{отд}}{n_i} \\approx \\frac{1}{\\sqrt{n_i}}$$ \n",
    "$$\\epsilon_{\\overline n} = \\frac{\\sigma_{\\overline n}}{\\overline n} = \\frac{\\sigma_{отд}}{\\overline n \\sqrt(N)} \\approx \\frac{1}{\\sqrt{n_i N}}$$"
   ]
  },
  {
   "cell_type": "markdown",
   "id": "58e8a5d5-4efe-45a4-962e-b45a5c3cdbcb",
   "metadata": {},
   "source": [
    "Для оценки было использовано соотношение $\\sigma_{отд} \\approx \\sqrt{\\overline n}$, которое следует из: $\\sigma_{отд} \\approx \\sigma_i = \\sqrt{n_i}$"
   ]
  },
  {
   "cell_type": "markdown",
   "id": "e122b520-a138-46c6-8b84-8ec01cc713fc",
   "metadata": {},
   "source": [
    "Таким образом, относительная точность измерения $\\overline n$ определяется только полным числом отсчетов $\\overline n N$ и не зависит от интервалов разбиения серии. И как видно, относительная точность измерения постепенно улучшается с увеличением числа отсчетов."
   ]
  },
  {
   "cell_type": "markdown",
   "id": "cfd9488d-11d1-47db-b4a2-c34dca9e60db",
   "metadata": {},
   "source": [
    "## 3. Ход работы <a name=\"Ход_работы\"></a>\n",
    "### Демонстрационный эксперимент <a name=\"Демонстрационный_эксперимент\"></a>"
   ]
  },
  {
   "cell_type": "markdown",
   "id": "3cc6a0fa-b79c-4f56-a18d-d4beb69b9be9",
   "metadata": {},
   "source": [
    "При проведении демонстрационного эксперимента, данные для обработки получались от генератора случайных чисел. Но на основании полученных данных были сделаны следующие выводы:\n",
    "1) Измеряемая величина флуктуирует\n",
    "2) Флуктуации среднего значения измеряемой величины уменьшаются, и среднее значение выходит на постоянную величину\n",
    "3) Флуктуации величины погрешности отдельного измерения уменьшаются, и погрешность отдельного измерения выходит на постоянную величину\n",
    "4) Флуктуации величины погрешности среднего значения уменьшаются, а сама величина убывает"
   ]
  },
  {
   "cell_type": "markdown",
   "id": "59fee888-1e23-4be2-874c-9bb8c01b77c6",
   "metadata": {},
   "source": [
    "### Построение гистограмм <a name=\"Построение_гистограмм\"></a>"
   ]
  },
  {
   "cell_type": "code",
   "execution_count": 94,
   "id": "070f0b27-5205-4449-bd3f-b67879470b5d",
   "metadata": {},
   "outputs": [],
   "source": [
    "import pandas as pd\n",
    "import numpy as np\n",
    "import matplotlib.pyplot as plt"
   ]
  },
  {
   "cell_type": "markdown",
   "id": "6afd25f4-9094-414e-b129-4fdc31542ff1",
   "metadata": {},
   "source": [
    "#### Строим таблицу по данным эксперимента (t = 20c)"
   ]
  },
  {
   "cell_type": "code",
   "execution_count": 6,
   "id": "c4d26ddd-8c36-462c-b2df-5c214b034176",
   "metadata": {},
   "outputs": [
    {
     "data": {
      "text/html": [
       "<div>\n",
       "<style scoped>\n",
       "    .dataframe tbody tr th:only-of-type {\n",
       "        vertical-align: middle;\n",
       "    }\n",
       "\n",
       "    .dataframe tbody tr th {\n",
       "        vertical-align: top;\n",
       "    }\n",
       "\n",
       "    .dataframe thead th {\n",
       "        text-align: right;\n",
       "    }\n",
       "</style>\n",
       "<table border=\"1\" class=\"dataframe\">\n",
       "  <thead>\n",
       "    <tr style=\"text-align: right;\">\n",
       "      <th></th>\n",
       "      <th>1</th>\n",
       "      <th>2</th>\n",
       "      <th>3</th>\n",
       "      <th>4</th>\n",
       "      <th>5</th>\n",
       "      <th>6</th>\n",
       "      <th>7</th>\n",
       "      <th>8</th>\n",
       "      <th>9</th>\n",
       "      <th>10</th>\n",
       "    </tr>\n",
       "  </thead>\n",
       "  <tbody>\n",
       "    <tr>\n",
       "      <th>0</th>\n",
       "      <td>24</td>\n",
       "      <td>29</td>\n",
       "      <td>28</td>\n",
       "      <td>27</td>\n",
       "      <td>29</td>\n",
       "      <td>23</td>\n",
       "      <td>23</td>\n",
       "      <td>22</td>\n",
       "      <td>17</td>\n",
       "      <td>36</td>\n",
       "    </tr>\n",
       "    <tr>\n",
       "      <th>1</th>\n",
       "      <td>20</td>\n",
       "      <td>23</td>\n",
       "      <td>19</td>\n",
       "      <td>27</td>\n",
       "      <td>20</td>\n",
       "      <td>17</td>\n",
       "      <td>24</td>\n",
       "      <td>20</td>\n",
       "      <td>24</td>\n",
       "      <td>28</td>\n",
       "    </tr>\n",
       "    <tr>\n",
       "      <th>2</th>\n",
       "      <td>19</td>\n",
       "      <td>32</td>\n",
       "      <td>20</td>\n",
       "      <td>26</td>\n",
       "      <td>23</td>\n",
       "      <td>20</td>\n",
       "      <td>30</td>\n",
       "      <td>17</td>\n",
       "      <td>24</td>\n",
       "      <td>19</td>\n",
       "    </tr>\n",
       "    <tr>\n",
       "      <th>3</th>\n",
       "      <td>31</td>\n",
       "      <td>23</td>\n",
       "      <td>28</td>\n",
       "      <td>26</td>\n",
       "      <td>37</td>\n",
       "      <td>28</td>\n",
       "      <td>30</td>\n",
       "      <td>21</td>\n",
       "      <td>28</td>\n",
       "      <td>22</td>\n",
       "    </tr>\n",
       "    <tr>\n",
       "      <th>4</th>\n",
       "      <td>28</td>\n",
       "      <td>22</td>\n",
       "      <td>28</td>\n",
       "      <td>29</td>\n",
       "      <td>19</td>\n",
       "      <td>25</td>\n",
       "      <td>24</td>\n",
       "      <td>18</td>\n",
       "      <td>21</td>\n",
       "      <td>22</td>\n",
       "    </tr>\n",
       "    <tr>\n",
       "      <th>5</th>\n",
       "      <td>23</td>\n",
       "      <td>21</td>\n",
       "      <td>23</td>\n",
       "      <td>19</td>\n",
       "      <td>21</td>\n",
       "      <td>25</td>\n",
       "      <td>13</td>\n",
       "      <td>28</td>\n",
       "      <td>25</td>\n",
       "      <td>33</td>\n",
       "    </tr>\n",
       "    <tr>\n",
       "      <th>6</th>\n",
       "      <td>21</td>\n",
       "      <td>25</td>\n",
       "      <td>23</td>\n",
       "      <td>26</td>\n",
       "      <td>25</td>\n",
       "      <td>36</td>\n",
       "      <td>22</td>\n",
       "      <td>19</td>\n",
       "      <td>21</td>\n",
       "      <td>29</td>\n",
       "    </tr>\n",
       "    <tr>\n",
       "      <th>7</th>\n",
       "      <td>23</td>\n",
       "      <td>22</td>\n",
       "      <td>26</td>\n",
       "      <td>20</td>\n",
       "      <td>22</td>\n",
       "      <td>31</td>\n",
       "      <td>25</td>\n",
       "      <td>27</td>\n",
       "      <td>22</td>\n",
       "      <td>25</td>\n",
       "    </tr>\n",
       "    <tr>\n",
       "      <th>8</th>\n",
       "      <td>36</td>\n",
       "      <td>24</td>\n",
       "      <td>23</td>\n",
       "      <td>29</td>\n",
       "      <td>25</td>\n",
       "      <td>25</td>\n",
       "      <td>27</td>\n",
       "      <td>24</td>\n",
       "      <td>28</td>\n",
       "      <td>25</td>\n",
       "    </tr>\n",
       "    <tr>\n",
       "      <th>9</th>\n",
       "      <td>25</td>\n",
       "      <td>26</td>\n",
       "      <td>35</td>\n",
       "      <td>22</td>\n",
       "      <td>20</td>\n",
       "      <td>31</td>\n",
       "      <td>23</td>\n",
       "      <td>23</td>\n",
       "      <td>22</td>\n",
       "      <td>30</td>\n",
       "    </tr>\n",
       "    <tr>\n",
       "      <th>10</th>\n",
       "      <td>26</td>\n",
       "      <td>28</td>\n",
       "      <td>31</td>\n",
       "      <td>22</td>\n",
       "      <td>35</td>\n",
       "      <td>31</td>\n",
       "      <td>27</td>\n",
       "      <td>25</td>\n",
       "      <td>28</td>\n",
       "      <td>20</td>\n",
       "    </tr>\n",
       "    <tr>\n",
       "      <th>11</th>\n",
       "      <td>20</td>\n",
       "      <td>27</td>\n",
       "      <td>30</td>\n",
       "      <td>29</td>\n",
       "      <td>33</td>\n",
       "      <td>21</td>\n",
       "      <td>25</td>\n",
       "      <td>23</td>\n",
       "      <td>18</td>\n",
       "      <td>16</td>\n",
       "    </tr>\n",
       "    <tr>\n",
       "      <th>12</th>\n",
       "      <td>23</td>\n",
       "      <td>22</td>\n",
       "      <td>19</td>\n",
       "      <td>31</td>\n",
       "      <td>14</td>\n",
       "      <td>31</td>\n",
       "      <td>33</td>\n",
       "      <td>19</td>\n",
       "      <td>23</td>\n",
       "      <td>31</td>\n",
       "    </tr>\n",
       "    <tr>\n",
       "      <th>13</th>\n",
       "      <td>32</td>\n",
       "      <td>27</td>\n",
       "      <td>21</td>\n",
       "      <td>28</td>\n",
       "      <td>27</td>\n",
       "      <td>29</td>\n",
       "      <td>32</td>\n",
       "      <td>36</td>\n",
       "      <td>33</td>\n",
       "      <td>28</td>\n",
       "    </tr>\n",
       "    <tr>\n",
       "      <th>14</th>\n",
       "      <td>22</td>\n",
       "      <td>33</td>\n",
       "      <td>32</td>\n",
       "      <td>29</td>\n",
       "      <td>32</td>\n",
       "      <td>24</td>\n",
       "      <td>25</td>\n",
       "      <td>29</td>\n",
       "      <td>23</td>\n",
       "      <td>25</td>\n",
       "    </tr>\n",
       "    <tr>\n",
       "      <th>15</th>\n",
       "      <td>24</td>\n",
       "      <td>30</td>\n",
       "      <td>27</td>\n",
       "      <td>24</td>\n",
       "      <td>21</td>\n",
       "      <td>24</td>\n",
       "      <td>25</td>\n",
       "      <td>27</td>\n",
       "      <td>19</td>\n",
       "      <td>14</td>\n",
       "    </tr>\n",
       "    <tr>\n",
       "      <th>16</th>\n",
       "      <td>24</td>\n",
       "      <td>24</td>\n",
       "      <td>20</td>\n",
       "      <td>15</td>\n",
       "      <td>33</td>\n",
       "      <td>26</td>\n",
       "      <td>30</td>\n",
       "      <td>27</td>\n",
       "      <td>36</td>\n",
       "      <td>29</td>\n",
       "    </tr>\n",
       "    <tr>\n",
       "      <th>17</th>\n",
       "      <td>25</td>\n",
       "      <td>31</td>\n",
       "      <td>22</td>\n",
       "      <td>22</td>\n",
       "      <td>19</td>\n",
       "      <td>27</td>\n",
       "      <td>26</td>\n",
       "      <td>16</td>\n",
       "      <td>19</td>\n",
       "      <td>25</td>\n",
       "    </tr>\n",
       "    <tr>\n",
       "      <th>18</th>\n",
       "      <td>29</td>\n",
       "      <td>27</td>\n",
       "      <td>21</td>\n",
       "      <td>28</td>\n",
       "      <td>22</td>\n",
       "      <td>28</td>\n",
       "      <td>33</td>\n",
       "      <td>18</td>\n",
       "      <td>29</td>\n",
       "      <td>25</td>\n",
       "    </tr>\n",
       "    <tr>\n",
       "      <th>19</th>\n",
       "      <td>20</td>\n",
       "      <td>32</td>\n",
       "      <td>33</td>\n",
       "      <td>35</td>\n",
       "      <td>33</td>\n",
       "      <td>30</td>\n",
       "      <td>28</td>\n",
       "      <td>30</td>\n",
       "      <td>26</td>\n",
       "      <td>25</td>\n",
       "    </tr>\n",
       "  </tbody>\n",
       "</table>\n",
       "</div>"
      ],
      "text/plain": [
       "     1   2   3   4   5   6   7   8   9  10\n",
       "0   24  29  28  27  29  23  23  22  17  36\n",
       "1   20  23  19  27  20  17  24  20  24  28\n",
       "2   19  32  20  26  23  20  30  17  24  19\n",
       "3   31  23  28  26  37  28  30  21  28  22\n",
       "4   28  22  28  29  19  25  24  18  21  22\n",
       "5   23  21  23  19  21  25  13  28  25  33\n",
       "6   21  25  23  26  25  36  22  19  21  29\n",
       "7   23  22  26  20  22  31  25  27  22  25\n",
       "8   36  24  23  29  25  25  27  24  28  25\n",
       "9   25  26  35  22  20  31  23  23  22  30\n",
       "10  26  28  31  22  35  31  27  25  28  20\n",
       "11  20  27  30  29  33  21  25  23  18  16\n",
       "12  23  22  19  31  14  31  33  19  23  31\n",
       "13  32  27  21  28  27  29  32  36  33  28\n",
       "14  22  33  32  29  32  24  25  29  23  25\n",
       "15  24  30  27  24  21  24  25  27  19  14\n",
       "16  24  24  20  15  33  26  30  27  36  29\n",
       "17  25  31  22  22  19  27  26  16  19  25\n",
       "18  29  27  21  28  22  28  33  18  29  25\n",
       "19  20  32  33  35  33  30  28  30  26  25"
      ]
     },
     "metadata": {},
     "output_type": "display_data"
    }
   ],
   "source": [
    "df_20 = pd.read_csv(\"data/data_20.csv\")\n",
    "display(df_20)"
   ]
  },
  {
   "cell_type": "code",
   "execution_count": 7,
   "id": "f2984867-043b-49f5-bd5b-a72d5d3c53bc",
   "metadata": {},
   "outputs": [],
   "source": [
    "data_20 = df_20.to_numpy()"
   ]
  },
  {
   "cell_type": "markdown",
   "id": "07f42162-c7c9-4b95-af00-52699ea78bef",
   "metadata": {},
   "source": [
    "#### Строим таблицу для t = 40с"
   ]
  },
  {
   "cell_type": "code",
   "execution_count": 9,
   "id": "dca33f9b-be2d-4d1d-9067-fb15b5a48274",
   "metadata": {},
   "outputs": [
    {
     "data": {
      "text/html": [
       "<div>\n",
       "<style scoped>\n",
       "    .dataframe tbody tr th:only-of-type {\n",
       "        vertical-align: middle;\n",
       "    }\n",
       "\n",
       "    .dataframe tbody tr th {\n",
       "        vertical-align: top;\n",
       "    }\n",
       "\n",
       "    .dataframe thead th {\n",
       "        text-align: right;\n",
       "    }\n",
       "</style>\n",
       "<table border=\"1\" class=\"dataframe\">\n",
       "  <thead>\n",
       "    <tr style=\"text-align: right;\">\n",
       "      <th></th>\n",
       "      <th>1</th>\n",
       "      <th>2</th>\n",
       "      <th>3</th>\n",
       "      <th>4</th>\n",
       "      <th>5</th>\n",
       "    </tr>\n",
       "  </thead>\n",
       "  <tbody>\n",
       "    <tr>\n",
       "      <th>0</th>\n",
       "      <td>53</td>\n",
       "      <td>55</td>\n",
       "      <td>52</td>\n",
       "      <td>45</td>\n",
       "      <td>53</td>\n",
       "    </tr>\n",
       "    <tr>\n",
       "      <th>1</th>\n",
       "      <td>43</td>\n",
       "      <td>46</td>\n",
       "      <td>37</td>\n",
       "      <td>44</td>\n",
       "      <td>52</td>\n",
       "    </tr>\n",
       "    <tr>\n",
       "      <th>2</th>\n",
       "      <td>51</td>\n",
       "      <td>46</td>\n",
       "      <td>43</td>\n",
       "      <td>47</td>\n",
       "      <td>43</td>\n",
       "    </tr>\n",
       "    <tr>\n",
       "      <th>3</th>\n",
       "      <td>54</td>\n",
       "      <td>54</td>\n",
       "      <td>65</td>\n",
       "      <td>51</td>\n",
       "      <td>50</td>\n",
       "    </tr>\n",
       "    <tr>\n",
       "      <th>4</th>\n",
       "      <td>50</td>\n",
       "      <td>57</td>\n",
       "      <td>44</td>\n",
       "      <td>42</td>\n",
       "      <td>43</td>\n",
       "    </tr>\n",
       "    <tr>\n",
       "      <th>5</th>\n",
       "      <td>44</td>\n",
       "      <td>42</td>\n",
       "      <td>46</td>\n",
       "      <td>41</td>\n",
       "      <td>58</td>\n",
       "    </tr>\n",
       "    <tr>\n",
       "      <th>6</th>\n",
       "      <td>46</td>\n",
       "      <td>49</td>\n",
       "      <td>61</td>\n",
       "      <td>41</td>\n",
       "      <td>50</td>\n",
       "    </tr>\n",
       "    <tr>\n",
       "      <th>7</th>\n",
       "      <td>45</td>\n",
       "      <td>46</td>\n",
       "      <td>53</td>\n",
       "      <td>52</td>\n",
       "      <td>47</td>\n",
       "    </tr>\n",
       "    <tr>\n",
       "      <th>8</th>\n",
       "      <td>60</td>\n",
       "      <td>52</td>\n",
       "      <td>50</td>\n",
       "      <td>51</td>\n",
       "      <td>53</td>\n",
       "    </tr>\n",
       "    <tr>\n",
       "      <th>9</th>\n",
       "      <td>51</td>\n",
       "      <td>57</td>\n",
       "      <td>51</td>\n",
       "      <td>46</td>\n",
       "      <td>52</td>\n",
       "    </tr>\n",
       "    <tr>\n",
       "      <th>10</th>\n",
       "      <td>54</td>\n",
       "      <td>53</td>\n",
       "      <td>66</td>\n",
       "      <td>52</td>\n",
       "      <td>48</td>\n",
       "    </tr>\n",
       "    <tr>\n",
       "      <th>11</th>\n",
       "      <td>47</td>\n",
       "      <td>59</td>\n",
       "      <td>54</td>\n",
       "      <td>48</td>\n",
       "      <td>34</td>\n",
       "    </tr>\n",
       "    <tr>\n",
       "      <th>12</th>\n",
       "      <td>45</td>\n",
       "      <td>50</td>\n",
       "      <td>45</td>\n",
       "      <td>52</td>\n",
       "      <td>54</td>\n",
       "    </tr>\n",
       "    <tr>\n",
       "      <th>13</th>\n",
       "      <td>59</td>\n",
       "      <td>49</td>\n",
       "      <td>56</td>\n",
       "      <td>68</td>\n",
       "      <td>61</td>\n",
       "    </tr>\n",
       "    <tr>\n",
       "      <th>14</th>\n",
       "      <td>55</td>\n",
       "      <td>61</td>\n",
       "      <td>56</td>\n",
       "      <td>54</td>\n",
       "      <td>48</td>\n",
       "    </tr>\n",
       "    <tr>\n",
       "      <th>15</th>\n",
       "      <td>54</td>\n",
       "      <td>51</td>\n",
       "      <td>45</td>\n",
       "      <td>52</td>\n",
       "      <td>33</td>\n",
       "    </tr>\n",
       "    <tr>\n",
       "      <th>16</th>\n",
       "      <td>48</td>\n",
       "      <td>35</td>\n",
       "      <td>59</td>\n",
       "      <td>57</td>\n",
       "      <td>65</td>\n",
       "    </tr>\n",
       "    <tr>\n",
       "      <th>17</th>\n",
       "      <td>56</td>\n",
       "      <td>44</td>\n",
       "      <td>46</td>\n",
       "      <td>42</td>\n",
       "      <td>44</td>\n",
       "    </tr>\n",
       "    <tr>\n",
       "      <th>18</th>\n",
       "      <td>56</td>\n",
       "      <td>49</td>\n",
       "      <td>50</td>\n",
       "      <td>51</td>\n",
       "      <td>54</td>\n",
       "    </tr>\n",
       "    <tr>\n",
       "      <th>19</th>\n",
       "      <td>52</td>\n",
       "      <td>68</td>\n",
       "      <td>63</td>\n",
       "      <td>58</td>\n",
       "      <td>51</td>\n",
       "    </tr>\n",
       "  </tbody>\n",
       "</table>\n",
       "</div>"
      ],
      "text/plain": [
       "     1   2   3   4   5\n",
       "0   53  55  52  45  53\n",
       "1   43  46  37  44  52\n",
       "2   51  46  43  47  43\n",
       "3   54  54  65  51  50\n",
       "4   50  57  44  42  43\n",
       "5   44  42  46  41  58\n",
       "6   46  49  61  41  50\n",
       "7   45  46  53  52  47\n",
       "8   60  52  50  51  53\n",
       "9   51  57  51  46  52\n",
       "10  54  53  66  52  48\n",
       "11  47  59  54  48  34\n",
       "12  45  50  45  52  54\n",
       "13  59  49  56  68  61\n",
       "14  55  61  56  54  48\n",
       "15  54  51  45  52  33\n",
       "16  48  35  59  57  65\n",
       "17  56  44  46  42  44\n",
       "18  56  49  50  51  54\n",
       "19  52  68  63  58  51"
      ]
     },
     "metadata": {},
     "output_type": "display_data"
    }
   ],
   "source": [
    "data_40 = list()\n",
    "for i in range(20):\n",
    "    for j in range(0, 10, 2):\n",
    "        data_40.append(data_20[i][j] + data_20[i][j+1])\n",
    "        \n",
    "data_40 = np.array(data_40).reshape((20,5))\n",
    "df_40 = pd.DataFrame(data_40, columns=['1','2','3','4','5'])\n",
    "display(df_40)"
   ]
  },
  {
   "cell_type": "markdown",
   "id": "ae173bf7-ad6f-491e-bfe6-cff0c080a91a",
   "metadata": {},
   "source": [
    "#### Делаем таблицу, удобную для построения гистограмм при t = 40с"
   ]
  },
  {
   "cell_type": "code",
   "execution_count": 11,
   "id": "f695c81c-9209-4b7d-a299-9fe403a8b89f",
   "metadata": {},
   "outputs": [],
   "source": [
    "data_40_values = np.unique(data_40, return_counts=True)[0]\n",
    "data_40_counts = np.unique(data_40, return_counts=True)[1]\n",
    "data_40_rates = list()\n",
    "\n",
    "for i in range(len(data_40_counts.tolist())):\n",
    "    data_40_rates.append(data_40_counts[i] / sum(data_40_counts))\n",
    "\n",
    "data_40_rates = np.array(data_40_rates)\n",
    "data_h40 = np.dstack((data_40_values, data_40_counts, data_40_rates)).reshape((29,3))"
   ]
  },
  {
   "cell_type": "code",
   "execution_count": 13,
   "id": "9df6ed1b-2468-4eb0-b232-bf63bcb4819e",
   "metadata": {},
   "outputs": [
    {
     "data": {
      "text/html": [
       "<div>\n",
       "<style scoped>\n",
       "    .dataframe tbody tr th:only-of-type {\n",
       "        vertical-align: middle;\n",
       "    }\n",
       "\n",
       "    .dataframe tbody tr th {\n",
       "        vertical-align: top;\n",
       "    }\n",
       "\n",
       "    .dataframe thead th {\n",
       "        text-align: right;\n",
       "    }\n",
       "</style>\n",
       "<table border=\"1\" class=\"dataframe\">\n",
       "  <thead>\n",
       "    <tr style=\"text-align: right;\">\n",
       "      <th></th>\n",
       "      <th>1</th>\n",
       "      <th>2</th>\n",
       "      <th>3</th>\n",
       "    </tr>\n",
       "  </thead>\n",
       "  <tbody>\n",
       "    <tr>\n",
       "      <th>0</th>\n",
       "      <td>33</td>\n",
       "      <td>1</td>\n",
       "      <td>0.01</td>\n",
       "    </tr>\n",
       "    <tr>\n",
       "      <th>1</th>\n",
       "      <td>34</td>\n",
       "      <td>1</td>\n",
       "      <td>0.01</td>\n",
       "    </tr>\n",
       "    <tr>\n",
       "      <th>2</th>\n",
       "      <td>35</td>\n",
       "      <td>1</td>\n",
       "      <td>0.01</td>\n",
       "    </tr>\n",
       "    <tr>\n",
       "      <th>3</th>\n",
       "      <td>37</td>\n",
       "      <td>1</td>\n",
       "      <td>0.01</td>\n",
       "    </tr>\n",
       "    <tr>\n",
       "      <th>4</th>\n",
       "      <td>41</td>\n",
       "      <td>2</td>\n",
       "      <td>0.02</td>\n",
       "    </tr>\n",
       "    <tr>\n",
       "      <th>5</th>\n",
       "      <td>42</td>\n",
       "      <td>3</td>\n",
       "      <td>0.03</td>\n",
       "    </tr>\n",
       "    <tr>\n",
       "      <th>6</th>\n",
       "      <td>43</td>\n",
       "      <td>4</td>\n",
       "      <td>0.04</td>\n",
       "    </tr>\n",
       "    <tr>\n",
       "      <th>7</th>\n",
       "      <td>44</td>\n",
       "      <td>5</td>\n",
       "      <td>0.05</td>\n",
       "    </tr>\n",
       "    <tr>\n",
       "      <th>8</th>\n",
       "      <td>45</td>\n",
       "      <td>5</td>\n",
       "      <td>0.05</td>\n",
       "    </tr>\n",
       "    <tr>\n",
       "      <th>9</th>\n",
       "      <td>46</td>\n",
       "      <td>7</td>\n",
       "      <td>0.07</td>\n",
       "    </tr>\n",
       "    <tr>\n",
       "      <th>10</th>\n",
       "      <td>47</td>\n",
       "      <td>3</td>\n",
       "      <td>0.03</td>\n",
       "    </tr>\n",
       "    <tr>\n",
       "      <th>11</th>\n",
       "      <td>48</td>\n",
       "      <td>4</td>\n",
       "      <td>0.04</td>\n",
       "    </tr>\n",
       "    <tr>\n",
       "      <th>12</th>\n",
       "      <td>49</td>\n",
       "      <td>3</td>\n",
       "      <td>0.03</td>\n",
       "    </tr>\n",
       "    <tr>\n",
       "      <th>13</th>\n",
       "      <td>50</td>\n",
       "      <td>6</td>\n",
       "      <td>0.06</td>\n",
       "    </tr>\n",
       "    <tr>\n",
       "      <th>14</th>\n",
       "      <td>51</td>\n",
       "      <td>8</td>\n",
       "      <td>0.08</td>\n",
       "    </tr>\n",
       "    <tr>\n",
       "      <th>15</th>\n",
       "      <td>52</td>\n",
       "      <td>9</td>\n",
       "      <td>0.09</td>\n",
       "    </tr>\n",
       "    <tr>\n",
       "      <th>16</th>\n",
       "      <td>53</td>\n",
       "      <td>5</td>\n",
       "      <td>0.05</td>\n",
       "    </tr>\n",
       "    <tr>\n",
       "      <th>17</th>\n",
       "      <td>54</td>\n",
       "      <td>8</td>\n",
       "      <td>0.08</td>\n",
       "    </tr>\n",
       "    <tr>\n",
       "      <th>18</th>\n",
       "      <td>55</td>\n",
       "      <td>2</td>\n",
       "      <td>0.02</td>\n",
       "    </tr>\n",
       "    <tr>\n",
       "      <th>19</th>\n",
       "      <td>56</td>\n",
       "      <td>4</td>\n",
       "      <td>0.04</td>\n",
       "    </tr>\n",
       "    <tr>\n",
       "      <th>20</th>\n",
       "      <td>57</td>\n",
       "      <td>3</td>\n",
       "      <td>0.03</td>\n",
       "    </tr>\n",
       "    <tr>\n",
       "      <th>21</th>\n",
       "      <td>58</td>\n",
       "      <td>2</td>\n",
       "      <td>0.02</td>\n",
       "    </tr>\n",
       "    <tr>\n",
       "      <th>22</th>\n",
       "      <td>59</td>\n",
       "      <td>3</td>\n",
       "      <td>0.03</td>\n",
       "    </tr>\n",
       "    <tr>\n",
       "      <th>23</th>\n",
       "      <td>60</td>\n",
       "      <td>1</td>\n",
       "      <td>0.01</td>\n",
       "    </tr>\n",
       "    <tr>\n",
       "      <th>24</th>\n",
       "      <td>61</td>\n",
       "      <td>3</td>\n",
       "      <td>0.03</td>\n",
       "    </tr>\n",
       "    <tr>\n",
       "      <th>25</th>\n",
       "      <td>63</td>\n",
       "      <td>1</td>\n",
       "      <td>0.01</td>\n",
       "    </tr>\n",
       "    <tr>\n",
       "      <th>26</th>\n",
       "      <td>65</td>\n",
       "      <td>2</td>\n",
       "      <td>0.02</td>\n",
       "    </tr>\n",
       "    <tr>\n",
       "      <th>27</th>\n",
       "      <td>66</td>\n",
       "      <td>1</td>\n",
       "      <td>0.01</td>\n",
       "    </tr>\n",
       "    <tr>\n",
       "      <th>28</th>\n",
       "      <td>68</td>\n",
       "      <td>2</td>\n",
       "      <td>0.02</td>\n",
       "    </tr>\n",
       "  </tbody>\n",
       "</table>\n",
       "</div>"
      ],
      "text/plain": [
       "     1  2     3\n",
       "0   33  1  0.01\n",
       "1   34  1  0.01\n",
       "2   35  1  0.01\n",
       "3   37  1  0.01\n",
       "4   41  2  0.02\n",
       "5   42  3  0.03\n",
       "6   43  4  0.04\n",
       "7   44  5  0.05\n",
       "8   45  5  0.05\n",
       "9   46  7  0.07\n",
       "10  47  3  0.03\n",
       "11  48  4  0.04\n",
       "12  49  3  0.03\n",
       "13  50  6  0.06\n",
       "14  51  8  0.08\n",
       "15  52  9  0.09\n",
       "16  53  5  0.05\n",
       "17  54  8  0.08\n",
       "18  55  2  0.02\n",
       "19  56  4  0.04\n",
       "20  57  3  0.03\n",
       "21  58  2  0.02\n",
       "22  59  3  0.03\n",
       "23  60  1  0.01\n",
       "24  61  3  0.03\n",
       "25  63  1  0.01\n",
       "26  65  2  0.02\n",
       "27  66  1  0.01\n",
       "28  68  2  0.02"
      ]
     },
     "metadata": {},
     "output_type": "display_data"
    }
   ],
   "source": [
    "df_h40 = pd.DataFrame(data_h40, columns=['1','2','3'])\n",
    "df_h40['1'] = df_h40['1'].astype(int)\n",
    "df_h40['2'] = df_h40['2'].astype(int)\n",
    "display(df_h40)"
   ]
  },
  {
   "cell_type": "markdown",
   "id": "e985f422-9f5d-43ff-bf36-71b8b4d85947",
   "metadata": {},
   "source": [
    "#### Строим гистограммы"
   ]
  },
  {
   "cell_type": "code",
   "execution_count": 15,
   "id": "d5daf67e-f666-4d82-97b2-5ff58a82ab04",
   "metadata": {},
   "outputs": [],
   "source": [
    "df_10 = pd.read_csv(\"data/data_10.csv\")\n",
    "\n",
    "data_10_values = df_10['1'].to_numpy()\n",
    "data_10_counts = df_10['2'].to_numpy()\n",
    "data_10_rates = df_10['3'].to_numpy()"
   ]
  },
  {
   "cell_type": "code",
   "execution_count": 17,
   "id": "350f6d87-8432-4544-954a-a4efe484dd68",
   "metadata": {},
   "outputs": [
    {
     "data": {
      "image/png": "[encoded data removed]",
      "text/plain": [
       "<Figure size 1000x800 with 2 Axes>"
      ]
     },
     "metadata": {},
     "output_type": "display_data"
    }
   ],
   "source": [
    "fig, ax1 = plt.subplots()\n",
    "fig.set_figheight(8)\n",
    "fig.set_figwidth(10)\n",
    "\n",
    "ax1.set_xlabel('$n$(10с)', fontsize=18, color='lightblue')\n",
    "ax1.set_ylabel(r'$\\omega (n)$', fontsize=18)\n",
    "ax1.hist(data_10_values, weights=data_10_rates, alpha=0.6, range=(0,26), bins=30, density=True, label='t = 10c', color='lightblue')\n",
    "\n",
    "ax1.tick_params(axis='x', labelcolor='lightblue',  labelsize=18)\n",
    "ax1.tick_params(axis='y', labelcolor='black',  labelsize=18)\n",
    "plt.legend(loc='upper left', fontsize=18)\n",
    "\n",
    "ax2 = ax1.twiny()\n",
    "ax2.set_xlabel('$n$(40с)', fontsize=18, color='plum')\n",
    "ax2.tick_params(axis='x', labelcolor='plum', labelsize=18)\n",
    "ax2.hist(data_40_values, weights=data_40_rates, alpha=0.6 , range=(0,105), bins=120, density=True, label='t = 40c', color='orchid')\n",
    "plt.legend(loc='upper right', fontsize=18)\n",
    "\n",
    "plt.show()"
   ]
  },
  {
   "cell_type": "markdown",
   "id": "f467029e-9d96-4b06-a0b5-a600d20cfec7",
   "metadata": {},
   "source": [
    "### Расчеты <a name=\"Расчеты\"></a>"
   ]
  },
  {
   "cell_type": "markdown",
   "id": "2d51b996-c246-4f5e-a54d-500f5ee6ca86",
   "metadata": {},
   "source": [
    "1) Найдем среднее число срабатываний счетчика за 10с:"
   ]
  },
  {
   "cell_type": "code",
   "execution_count": 66,
   "id": "9f931133-7e16-4535-8a39-10a0eb8093f6",
   "metadata": {},
   "outputs": [
    {
     "name": "stdout",
     "output_type": "stream",
     "text": [
      "5075\n",
      "400\n",
      "12.6875\n"
     ]
    }
   ],
   "source": [
    "n_1 = sum(data_10_values * data_10_counts) / sum(data_10_counts)\n",
    "print(sum(data_10_values * data_10_counts), sum(data_10_counts), n_1, sep='\\n')"
   ]
  },
  {
   "cell_type": "markdown",
   "id": "7aba5e6d-1776-4136-b5d4-e37ab3ee23c1",
   "metadata": {},
   "source": [
    "$$\\overline n_1 = \\frac{1}{N_1}\\sum_{i=1}^{N_1} n_i = \\frac{5075}{400} = 12,6875$$"
   ]
  },
  {
   "cell_type": "markdown",
   "id": "82f491e9-8905-4d38-be5d-bad5adfc1cc9",
   "metadata": {},
   "source": [
    "2. Найдем среднеквадратичную ошибку отдельного измерения:"
   ]
  },
  {
   "cell_type": "code",
   "execution_count": 90,
   "id": "496f55db-5f75-48ab-96e2-c2d924b8b043",
   "metadata": {},
   "outputs": [
    {
     "name": "stdout",
     "output_type": "stream",
     "text": [
      "4993.9375\n",
      "400\n",
      "3.5333898383846636\n"
     ]
    }
   ],
   "source": [
    "sigma_1 = np.sqrt(sum(np.power(data_10_values - n_1, 2) * data_10_counts) / sum(data_10_counts))\n",
    "print(sum(np.power(data_10_values - n_1, 2) * data_10_counts), sum(data_10_counts), sigma_1, sep='\\n')"
   ]
  },
  {
   "cell_type": "markdown",
   "id": "68c11d22-42a9-4fdd-8ca6-58fbea8a67c7",
   "metadata": {},
   "source": [
    "$$\\sigma_1 = \\sqrt{\\frac{1}{N_1} \\sum_{i=1}^{N_1} (n_i - \\overline n_1)^2} = \\sqrt{\\frac{4993,9375}{400}} \\approx 3,53$$"
   ]
  },
  {
   "cell_type": "markdown",
   "id": "c7d2bbef-1525-476f-a096-840a90814d3c",
   "metadata": {},
   "source": [
    "3. Убедимся в справедливости формулы $\\sigma_{отд} \\approx \\sqrt{\\overline n}$ :"
   ]
  },
  {
   "cell_type": "markdown",
   "id": "eef93871-7bc9-4782-8a0d-6ff1fe55ffac",
   "metadata": {},
   "source": [
    "$$\\sigma_1 \\approx \\sqrt{\\overline n_1}$$\n",
    "$$3,53 \\approx \\sqrt{12,6875} \\approx 3,56$$"
   ]
  },
  {
   "cell_type": "markdown",
   "id": "7b9a7d6a-c469-4563-b087-5048bfbd7572",
   "metadata": {},
   "source": [
    "4. Определим долю случаев, когда отклонение от среднего значения не превышают $\\sigma_1, 2\\sigma_1$, и сравним с теоретическими оценками:"
   ]
  },
  {
   "cell_type": "code",
   "execution_count": 87,
   "id": "f55254dd-6d62-4b0d-8f67-f78b8ede31bf",
   "metadata": {},
   "outputs": [
    {
     "name": "stdout",
     "output_type": "stream",
     "text": [
      "253 0.6325\n",
      "386 0.965\n"
     ]
    }
   ],
   "source": [
    "data_10_counts_1sigma = data_10_counts[abs(data_10_values - n_1) <= sigma_1]\n",
    "data_10_counts_2sigma = data_10_counts[abs(data_10_values - n_1) <= 2*sigma_1]\n",
    "\n",
    "p_1 = sum(data_10_counts_1sigma) / sum(data_10_counts)\n",
    "p_2 = sum(data_10_counts_2sigma) / sum(data_10_counts)\n",
    "\n",
    "print(sum(data_10_counts_1sigma), p_1)\n",
    "print(sum(data_10_counts_2sigma), p_2)"
   ]
  },
  {
   "cell_type": "markdown",
   "id": "2d3e22aa-9cbb-4531-8672-787c7af708fd",
   "metadata": {},
   "source": [
    "Доля случаев в пределах $1 \\sigma = \\frac{253}{400} = 0.6325 \\approx 0.68$  \n",
    "\n",
    "\n",
    "Доля случаев в пределах $2 \\sigma = \\frac{386}{400} = 0.965 \\approx 0.95$"
   ]
  },
  {
   "cell_type": "markdown",
   "id": "048eddf4-356f-448f-89f2-41acf0b080f7",
   "metadata": {},
   "source": [
    "5. Найдем среднее число срабатываний счетчика за 40с:"
   ]
  },
  {
   "cell_type": "code",
   "execution_count": 88,
   "id": "931dbea3-8a84-43fb-8512-7691bc80c545",
   "metadata": {},
   "outputs": [
    {
     "name": "stdout",
     "output_type": "stream",
     "text": [
      "5075\n",
      "100\n",
      "50.75\n"
     ]
    }
   ],
   "source": [
    "n_2 = sum(data_40_values * data_40_counts) / sum(data_40_counts)\n",
    "print(sum(data_40_values * data_40_counts), sum(data_40_counts), n_2, sep='\\n')"
   ]
  },
  {
   "cell_type": "markdown",
   "id": "f920127e-3c1f-431e-a82c-a353b633e081",
   "metadata": {},
   "source": [
    "$$\\overline n_2 = \\frac{1}{N_2}\\sum_{i=1}^{N_2} n_i = \\frac{5075}{100} = 50,75$$"
   ]
  },
  {
   "cell_type": "markdown",
   "id": "ab51847d-5e98-4a1c-9bca-81a2c2506a9c",
   "metadata": {},
   "source": [
    "6. Найдем среднеквадратичную ошибку отдельного измерения:"
   ]
  },
  {
   "cell_type": "code",
   "execution_count": 91,
   "id": "a49388ae-f49c-422a-972b-f4dcc7c4a835",
   "metadata": {},
   "outputs": [
    {
     "name": "stdout",
     "output_type": "stream",
     "text": [
      "4810.75\n",
      "100\n",
      "6.935957035622409\n"
     ]
    }
   ],
   "source": [
    "sigma_2 = np.sqrt(sum(np.power(data_40_values - n_2, 2) * data_40_counts) / sum(data_40_counts))\n",
    "print(sum(np.power(data_40_values - n_2, 2) * data_40_counts), sum(data_40_counts), sigma_2, sep='\\n')"
   ]
  },
  {
   "cell_type": "markdown",
   "id": "22055e8d-2bbb-4269-b977-248cfbc3b01c",
   "metadata": {},
   "source": [
    "$$\\sigma_2 = \\sqrt{\\frac{1}{N_2} \\sum_{i=1}^{N_2} (n_i - \\overline n_2)^2} = \\sqrt{\\frac{4810,75}{100}} \\approx 6,94$$"
   ]
  },
  {
   "cell_type": "markdown",
   "id": "5793b535-9b9f-4922-b5c5-44acc833aea4",
   "metadata": {},
   "source": [
    "7. Убедимся в справедливости формулы $\\sigma_{отд} \\approx \\sqrt{\\overline n}$ :"
   ]
  },
  {
   "cell_type": "markdown",
   "id": "8f61eb6c-b137-4d17-b02b-50d08c4ba7da",
   "metadata": {},
   "source": [
    "$$\\sigma_2 \\approx \\sqrt{\\overline n_2}$$\n",
    "$$6,94 \\approx \\sqrt{50,75} \\approx 7,12$$"
   ]
  },
  {
   "cell_type": "markdown",
   "id": "14c3fb87-cd3e-4cd8-9bfd-525e65cc7e78",
   "metadata": {},
   "source": [
    "8. Сравним среднеквадратичные ошибки отдельных измерений для двух распределений: $\\overline n_1 = 12,6875 $; $\\sigma_1 = 3,53$ и $\\overline n_2 = 50,75$; $\\sigma_2 = 6,94$:"
   ]
  },
  {
   "cell_type": "markdown",
   "id": "0354f042-670c-4f69-b628-1c987255d66d",
   "metadata": {},
   "source": [
    "$$\\frac{\\sigma_1}{\\overline n_1} * 100\\% = \\frac{3,53}{12,6875} * 100\\% \\approx 28\\%$$ \n",
    "$$\\frac{\\sigma_2}{\\overline n_2} * 100\\% = \\frac{6,94}{50,75} * 100\\% \\approx 14\\%$$"
   ]
  },
  {
   "cell_type": "markdown",
   "id": "d64b2f6b-3f84-4387-94b9-c56f7893cbc8",
   "metadata": {},
   "source": [
    "9. Определим стандартную ошибку величины $\\overline n_1$ и относительную ошибку нахождения $\\overline n_1$ для $N = 400$ измерений по 10 с:"
   ]
  },
  {
   "cell_type": "markdown",
   "id": "5a7ae99a-021e-476e-a258-ae597bdbfcb2",
   "metadata": {},
   "source": [
    "$$\\sigma_{\\overline n_1} = \\frac{\\sigma_1}{\\sqrt{N_1}} = \\frac{3,53}{\\sqrt{400}} \\approx 0,18$$"
   ]
  },
  {
   "cell_type": "markdown",
   "id": "38739746-5497-4958-aaaa-c907fd0a80f2",
   "metadata": {},
   "source": [
    "$$\\epsilon_{\\overline n_1} = \\frac{\\sigma_{\\overline n_1}}{\\overline n_1} * 100\\% = \\frac{0,18}{12,6875} * 100\\% \\approx 1,42\\%$$"
   ]
  },
  {
   "cell_type": "markdown",
   "id": "134236f9-9c99-44ae-b187-a6a215d017a9",
   "metadata": {},
   "source": [
    "$$\\epsilon_{\\overline n_1} = \\frac{100\\%}{\\sqrt{\\overline n_1 N1}} = \\frac{100\\%}{\\sqrt{12,6875*400}} \\approx 1,40\\%$$"
   ]
  },
  {
   "cell_type": "markdown",
   "id": "25f0c710-e135-42f2-9539-ab42c302004a",
   "metadata": {},
   "source": [
    "                            Относительные ошибки, рассчитанные по двум формулам действительно очень близки."
   ]
  },
  {
   "cell_type": "markdown",
   "id": "feba0a98-7f15-4987-b77b-0f4fe5f032d9",
   "metadata": {},
   "source": [
    "    Тогда, окончательно имеем:"
   ]
  },
  {
   "cell_type": "markdown",
   "id": "16c8fa1c-b534-42a8-af7f-5a48bd0cfce6",
   "metadata": {},
   "source": [
    "$$n_{t=10c} = \\overline n_1 \\pm \\sigma_{\\overline n_1} = 12,6875 \\pm 0,18$$"
   ]
  },
  {
   "cell_type": "markdown",
   "id": "44972e7d-fae6-49ce-b50b-e0a92b11addd",
   "metadata": {},
   "source": [
    "10. Аналогично находим стандартную ошибку для величины $\\overline n_2$ и относительную ошибку нахождения $\\overline n_2$ для $N_2 = 100$ измерений по 40с:"
   ]
  },
  {
   "cell_type": "markdown",
   "id": "d90514a1-5f4a-424c-889a-4cead18978dc",
   "metadata": {},
   "source": [
    "$$\\sigma_{\\overline n_2} = \\frac{\\sigma_2}{\\sqrt{N_2}} = \\frac{6,94}{\\sqrt{100}} \\approx 0,69$$"
   ]
  },
  {
   "cell_type": "markdown",
   "id": "2751dcca-961a-4bc8-91c7-f76d312571ea",
   "metadata": {},
   "source": [
    "$$\\epsilon_{\\overline n_2} = \\frac{\\sigma_{\\overline n_2}}{\\overline n_2} * 100\\% = \\frac{0,69}{50,75} * 100\\% \\approx 1,36\\%$$"
   ]
  },
  {
   "cell_type": "markdown",
   "id": "c8e924e3-194f-4416-89da-d212bf463b89",
   "metadata": {},
   "source": [
    "$$\\epsilon_{\\overline n_2} = \\frac{100\\%}{\\sqrt{\\overline n_2 N2}} = \\frac{100\\%}{\\sqrt{50,75*100}} \\approx 1,40\\% = \\epsilon_{\\overline n_1}$$"
   ]
  },
  {
   "cell_type": "markdown",
   "id": "0c501e05-87f2-4bda-bf12-99f52ddd3fc9",
   "metadata": {},
   "source": [
    "    Окончательно имеем:"
   ]
  },
  {
   "cell_type": "markdown",
   "id": "b75b3410-27d1-4fd4-b59d-385467025676",
   "metadata": {},
   "source": [
    "$$n_{t=40c} = \\overline n_2 \\pm \\sigma_{\\overline n_2} = 50,75 \\pm 0,69$$"
   ]
  },
  {
   "cell_type": "markdown",
   "id": "d3af2715-4155-4396-ac49-fe7812fb8767",
   "metadata": {},
   "source": [
    "## Вывод <a name=\"Вывод\"></a>"
   ]
  },
  {
   "cell_type": "markdown",
   "id": "fe250bdb-e9bd-409e-91f5-735a7a40f452",
   "metadata": {},
   "source": [
    "В ходе выполнения работы познакомился с основными понятиями статистики. Определил среднее число регистрируемых космических лучей за определенные промежутки времени и определил погрешность результата. Выяснил, что средняя интенсивность регистрируемых частиц не зависит от величины интервала $\\tau$ и числа отсчетов. Исследовал Пуассоновский процесс и распределение Гаусса."
   ]
  },
  {
   "cell_type": "code",
   "execution_count": null,
   "id": "f3b98b19-442e-412f-942b-91a2a3a7a3e0",
   "metadata": {},
   "outputs": [],
   "source": []
  }
 ],
 "metadata": {
  "kernelspec": {
   "display_name": "Python 3 (ipykernel)",
   "language": "python",
   "name": "python3"
  },
  "language_info": {
   "codemirror_mode": {
    "name": "ipython",
    "version": 3
   },
   "file_extension": ".py",
   "mimetype": "text/x-python",
   "name": "python",
   "nbconvert_exporter": "python",
   "pygments_lexer": "ipython3",
   "version": "3.11.5"
  }
 },
 "nbformat": 4,
 "nbformat_minor": 5
}
