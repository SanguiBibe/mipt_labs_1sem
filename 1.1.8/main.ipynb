{
 "cells": [
  {
   "cell_type": "markdown",
   "id": "40479ddc-7ca3-417d-9b25-9a1763e5943a",
   "metadata": {},
   "source": [
    "# Отчет о выполнении лабораторной работы 1.1.4"
   ]
  },
  {
   "cell_type": "markdown",
   "id": "a07140e7-7b63-45a1-b6b8-de8aa1b3130e",
   "metadata": {},
   "source": [
    "# Измерение ускорения свободного падения"
   ]
  },
  {
   "cell_type": "markdown",
   "id": "c7b53e22-e9c7-463f-9a93-c3840c0d5477",
   "metadata": {},
   "source": [
    "# Содержание:"
   ]
  },
  {
   "cell_type": "markdown",
   "id": "6bcacdcc-873d-4804-806e-52189be8ffc1",
   "metadata": {},
   "source": [
    "- Часть 1\n",
    "    - Введение\n",
    "    - Теоретическая часть и установка\n",
    "    - Проведение измерений\n",
    "    - Обработка результатов\n",
    "- Часть 2\n",
    "    - Введения\n",
    "    - Теоретическая часть\n",
    "    - Выполнение\n",
    "    - Обработка результатов\n",
    "- Вывод"
   ]
  },
  {
   "cell_type": "markdown",
   "id": "208b6fcd-0a40-4e25-b79a-64655466fe98",
   "metadata": {},
   "source": [
    "## Часть 1 (1.1.8)"
   ]
  },
  {
   "cell_type": "markdown",
   "id": "d2e1b891-3d3f-41d5-b19b-f82955d63a02",
   "metadata": {},
   "source": [
    "### Введение"
   ]
  },
  {
   "cell_type": "markdown",
   "id": "c6c56cfe-841b-4e38-91da-d4c307a89ea1",
   "metadata": {},
   "source": [
    "**Цель работы**: определить ускорение свободного падения посредством прямых измерений ускорения падающего тела.\n",
    "\n",
    "**Оборудование**:  вертикальная труба с намотанными катушками; шарообразны \r\n",
    "неодимовые магниты; линейка; блок регистрации сигнала (микроконтроллер с АЦП), соединённый с цифровым осциллографом."
   ]
  },
  {
   "cell_type": "markdown",
   "id": "3cbc759b-a38a-47b9-a297-7b5c11b80a4d",
   "metadata": {},
   "source": [
    "### Теоретическая часть и установка"
   ]
  },
  {
   "cell_type": "markdown",
   "id": "c140928c-5d88-4883-8bbb-f929aaf98617",
   "metadata": {},
   "source": [
    "В данной лабораторной работе ускорение свободного падения g определяется при помощи измерения времени падения металлического шарика в поле\r\n",
    "тяжести Земли. Экспериментальная установка приведена на рис.1. Металлический шарик (неодимовый магнит) первоначально удерживается сверху электромагнитом в подвешенном состоянии. После выключения тока, текущего через\r\n",
    "электромагнит, шарик начинает падать вниз и пролетает последовательно через\r\n",
    "шесть тонких проволочных катушек. С катушками соединены датчики электрического напряжения и регистраторы времени (таймеры). Шарик имеет собственную намагниченность (является постоянным магнитом), поэтому, когда он пролетает сквозь проволочную катушку, он своим магнитным полем наводит в катушке индукционный ток. Этот ток регистрируется\r\n",
    "электрическим датчиком, соединённым с катушкой. По возникающему импульсу напряжения срабатывает таймер, соединённый с данной катушкой. "
   ]
  },
  {
   "cell_type": "markdown",
   "id": "10a919e5-8a91-4280-b564-030cb4f347fa",
   "metadata": {},
   "source": [
    "Импульсы тока от всех катушек также регистрируются на экране запоминающего осциллографа. По картине импульсов на экране\n",
    "осциллографа можно примерно определить\n",
    "время пролёта шариком каждой из катушек и\n",
    "сравнить это время с соответствующим значением таймера. Согласно закону электромагнитной индукции\n",
    "$$ \\epsilon = -\\frac{dF}{dt} $$"
   ]
  },
  {
   "cell_type": "markdown",
   "id": "eb36f116-f3d1-40f4-be6b-052d4cfeb3a8",
   "metadata": {},
   "source": [
    "Рассмотрим падение шарика из его начального положения, когда он удерживается электромагнитом. Направим ось у вертикально вниз, а начало отсчёта\n",
    "𝑦 = 0 совместим с положением самой верхней катушки (рис. 1).\n",
    "Пусть $𝑣_0$ – скорость шарика в центре самой верхней катушки. Для равноускоренного движения шарика справедливо выражение:\n",
    "$$ y = v_0 t + \\frac{gt^2}{2} $$"
   ]
  },
  {
   "cell_type": "markdown",
   "id": "32ac349e-07eb-4ca1-96d8-e3febcf1f39d",
   "metadata": {},
   "source": [
    "Выражение (1) можно записать для пяти моментов времени $𝑡_𝑛$ (n = 1, 2, 3, 4, 5),\n",
    "соответствующих пролёту шарика через соответствующую катушку:\n",
    "$$ nl = v_0 t_n + \\frac{gt_n^2}{2} $$"
   ]
  },
  {
   "cell_type": "markdown",
   "id": "a2aa4e19-8c4d-46c6-8a52-58c3498abc73",
   "metadata": {},
   "source": [
    "Перепишем выражение (2) в виде:\n",
    "$$ \\frac{nl}{t_n} = v_0 + \\frac{gt_n}{2} $$"
   ]
  },
  {
   "cell_type": "markdown",
   "id": "c67fbdd5-c94a-47e9-9e68-57b679c92c6c",
   "metadata": {},
   "source": [
    "Проводя измерения времён $𝑡_n$ при свободном падении шарика и используя выражение (3), можно построить график зависимости величины $𝑛l$/$𝑡_𝑛$ от $𝑡_𝑛$ и\r\n",
    "определить ускорение свободного падения из углового коэффициента данной\r\n",
    "зависимости."
   ]
  },
  {
   "cell_type": "markdown",
   "id": "11686109-2830-4c9a-a443-1f9df053966b",
   "metadata": {},
   "source": [
    "### Проведение измерений"
   ]
  },
  {
   "cell_type": "markdown",
   "id": "d696012c-cf30-45d6-9776-577ea6a7f7bd",
   "metadata": {},
   "source": [
    "1. Ознакомьтесь с экспериментальной установкой. Убедитесь, что расстояние 𝑙 между соседними катушками одинаково. Измерьте и запишите это\n",
    "расстояние.\n",
    "2. Включите электрическое питание блока управления и регистрации экспериментальной установки. При этом у электромагнита загорается красный\n",
    "световой индикатор.\n",
    "3. Включите осциллограф. Ознакомьтесь с краткой инструкцией по работе с\n",
    "осциллографом, расположенной на столе. Следуя инструкции, подготовьте\n",
    "осциллограф к началу измерений.\n",
    "4. Достаньте из футляра металлический шарик (неодимовый магнит). Измерьте его массу 𝑚 и радиус 𝑟 (или запишите значения, указанные на установке).\n",
    "5. Положите шарик в пластиковый держатель, закреплённый на длинной металлической штанге, и поднесите его к установленному в верхней точке\n",
    "установки электромагниту так, чтобы он зафиксировался в нём.\n",
    "6. При нажатии кнопки «Сброс» на блоке управления произойдёт размыкание\n",
    "электрической цепи электромагнита, и шарик свободно упадёт вниз.\n",
    "Наблюдайте на экране осциллографа осциллограмму сигнала от пролёта\n",
    "шарика.\n",
    "7. С помощью осциллографа измерьте времена пролёта\n",
    "магнита через катушки $𝑡_1$, $𝑡_2$, $𝑡_3$, $𝑡_4$, $𝑡_5$. Сравните результаты со значениями,\n",
    "отображаемыми на цифровом индикаторе блока регистрации.\n",
    "8. Повторите опыт с падением шарика 5-7 раз и запишите все значения времен $t_n$\n",
    "9. По полученным данным постройте графики зависимости $\\frac{nl}{t_n}$ от $𝑡_𝑛$ и по\n",
    "угловому коэффициенту наилучшей прямой определите ускорение свободного падения. Усредните результаты опытов. Оцените погрешность результата."
   ]
  },
  {
   "cell_type": "markdown",
   "id": "d3935534-292b-413c-b2a5-32d97e5ac58f",
   "metadata": {},
   "source": [
    "### Обработка результатов"
   ]
  },
  {
   "cell_type": "markdown",
   "id": "282ef174-131b-445e-8fdc-f9eba982afe6",
   "metadata": {},
   "source": [
    "1. Расстояние между катушками: 38 см  \n",
    "2. Были проведены 5 измерений для $t_i$ (i = 1,2,3,4,5):"
   ]
  },
  {
   "cell_type": "code",
   "execution_count": 4,
   "id": "0b9deecf-47b8-4dc9-a402-be363f99b30f",
   "metadata": {},
   "outputs": [],
   "source": [
    "import numpy as np\n",
    "import pandas as pd\n",
    "import matplotlib.pyplot as plt"
   ]
  },
  {
   "cell_type": "code",
   "execution_count": 28,
   "id": "14dfacde-6681-4d06-b097-0b67a77df8a8",
   "metadata": {},
   "outputs": [
    {
     "data": {
      "text/html": [
       "<div>\n",
       "<style scoped>\n",
       "    .dataframe tbody tr th:only-of-type {\n",
       "        vertical-align: middle;\n",
       "    }\n",
       "\n",
       "    .dataframe tbody tr th {\n",
       "        vertical-align: top;\n",
       "    }\n",
       "\n",
       "    .dataframe thead th {\n",
       "        text-align: right;\n",
       "    }\n",
       "</style>\n",
       "<table border=\"1\" class=\"dataframe\">\n",
       "  <thead>\n",
       "    <tr style=\"text-align: right;\">\n",
       "      <th></th>\n",
       "      <th>0</th>\n",
       "      <th>1</th>\n",
       "      <th>2</th>\n",
       "      <th>3</th>\n",
       "      <th>4</th>\n",
       "    </tr>\n",
       "  </thead>\n",
       "  <tbody>\n",
       "    <tr>\n",
       "      <th>0</th>\n",
       "      <td>118.25</td>\n",
       "      <td>207.37</td>\n",
       "      <td>283.37</td>\n",
       "      <td>350.44</td>\n",
       "      <td>410.86</td>\n",
       "    </tr>\n",
       "    <tr>\n",
       "      <th>1</th>\n",
       "      <td>117.91</td>\n",
       "      <td>207.28</td>\n",
       "      <td>283.36</td>\n",
       "      <td>350.47</td>\n",
       "      <td>410.79</td>\n",
       "    </tr>\n",
       "    <tr>\n",
       "      <th>2</th>\n",
       "      <td>117.82</td>\n",
       "      <td>207.38</td>\n",
       "      <td>283.73</td>\n",
       "      <td>351.28</td>\n",
       "      <td>412.07</td>\n",
       "    </tr>\n",
       "    <tr>\n",
       "      <th>3</th>\n",
       "      <td>119.15</td>\n",
       "      <td>207.64</td>\n",
       "      <td>283.44</td>\n",
       "      <td>350.50</td>\n",
       "      <td>411.18</td>\n",
       "    </tr>\n",
       "    <tr>\n",
       "      <th>4</th>\n",
       "      <td>118.37</td>\n",
       "      <td>207.26</td>\n",
       "      <td>283.10</td>\n",
       "      <td>350.03</td>\n",
       "      <td>410.38</td>\n",
       "    </tr>\n",
       "  </tbody>\n",
       "</table>\n",
       "</div>"
      ],
      "text/plain": [
       "        0       1       2       3       4\n",
       "0  118.25  207.37  283.37  350.44  410.86\n",
       "1  117.91  207.28  283.36  350.47  410.79\n",
       "2  117.82  207.38  283.73  351.28  412.07\n",
       "3  119.15  207.64  283.44  350.50  411.18\n",
       "4  118.37  207.26  283.10  350.03  410.38"
      ]
     },
     "execution_count": 28,
     "metadata": {},
     "output_type": "execute_result"
    }
   ],
   "source": [
    "data1 = pd.read_csv('data.csv')\n",
    "data1"
   ]
  },
  {
   "cell_type": "code",
   "execution_count": 29,
   "id": "22f669bc-bb95-4bec-96da-66193bab24bf",
   "metadata": {},
   "outputs": [],
   "source": [
    "data1 = data1.to_numpy()"
   ]
  },
  {
   "cell_type": "code",
   "execution_count": 84,
   "id": "7c8f9bc5-b51c-4023-8663-982f441b62ba",
   "metadata": {},
   "outputs": [
    {
     "data": {
      "image/png": "[encoded data removed]",
      "text/plain": [
       "<Figure size 1000x800 with 6 Axes>"
      ]
     },
     "metadata": {},
     "output_type": "display_data"
    }
   ],
   "source": [
    "fig, axs = plt.subplots(3,2)\n",
    "fig.set_figheight(8)\n",
    "fig.set_figwidth(10)\n",
    "fig.tight_layout()\n",
    "\n",
    "x1 = 0.001 * data1[0]\n",
    "y1 = np.array([i*0.38 for i in range(1,6)]) / (0.001 * data1[0])\n",
    "z1 = np.polyfit(x1, y1, 1)\n",
    "p1 = np.poly1d(z1)\n",
    "\n",
    "axs[(0,0)].scatter(x1, y1)\n",
    "axs[(0,0)].plot(x1, p1(x1))\n",
    "\n",
    "x2 = 0.001 * data1[1]\n",
    "y2 = np.array([i*0.38 for i in range(1,6)]) / (0.001 * data1[1])\n",
    "z2 = np.polyfit(x2, y2, 1)\n",
    "p2 = np.poly1d(z2)\n",
    "\n",
    "axs[(0,1)].scatter(x2, y2)\n",
    "axs[(0,1)].plot(x2, p2(x2))\n",
    "\n",
    "x3 = 0.001 * data1[2]\n",
    "y3 = np.array([i*0.38 for i in range(1,6)]) / (0.001 * data1[2])\n",
    "z3 = np.polyfit(x3, y3, 1)\n",
    "p3 = np.poly1d(z3)\n",
    "\n",
    "axs[(1,0)].scatter(x3, y3)\n",
    "axs[(1,0)].plot(x3, p3(x3))\n",
    "\n",
    "x4 = 0.001 * data1[3]\n",
    "y4 = np.array([i*0.38 for i in range(1,6)]) / (0.001 * data1[3])\n",
    "z4 = np.polyfit(x4, y4, 1)\n",
    "p4 = np.poly1d(z4)\n",
    "\n",
    "axs[(1,1)].scatter(x4, y4)\n",
    "axs[(1,1)].plot(x4, p4(x4))\n",
    "\n",
    "x5 = 0.001 * data1[4]\n",
    "y5 = np.array([i*0.38 for i in range(1,6)]) / (0.001 * data1[4])\n",
    "z5 = np.polyfit(x5, y5, 1)\n",
    "p5 = np.poly1d(z5)\n",
    "\n",
    "axs[(2,0)].scatter(x5, y5)\n",
    "axs[(2,0)].plot(x5, p5(x5))\n",
    "\n",
    "\n",
    "plt.show()"
   ]
  },
  {
   "cell_type": "markdown",
   "id": "4cfe3a5d-34ea-4fa1-bc80-eebe18a34944",
   "metadata": {},
   "source": [
    "Найдем значения g как угловой коэффициент наших линий тренда, умноженной на 2:"
   ]
  },
  {
   "cell_type": "code",
   "execution_count": 111,
   "id": "ae2f8f98-f3d5-4af5-ada8-e4ca6c6aa51a",
   "metadata": {},
   "outputs": [
    {
     "name": "stdout",
     "output_type": "stream",
     "text": [
      "Значения g по пяти графикам: [9.61 9.54 9.38 9.76 9.68]\n",
      "Среднее значение g: 9.59\n"
     ]
    }
   ],
   "source": [
    "result = np.round(2 * np.array([z1[0],z2[0],z3[0],z4[0],z5[0]]), 2)\n",
    "print(f'Значения g по пяти графикам: {result}')\n",
    "\n",
    "g_average = np.round(np.sum(result) / np.size(result), 2)\n",
    "print(f'Среднее значение g: {g_average}')"
   ]
  },
  {
   "cell_type": "markdown",
   "id": "c4ae9f72-506a-4ff2-8130-5ff57190c254",
   "metadata": {},
   "source": [
    "Среднее значение g:\n",
    "$$ \\overline {g} = 9.59 $$"
   ]
  },
  {
   "cell_type": "markdown",
   "id": "e4deda86-1718-4b34-bc66-a3a45323e36a",
   "metadata": {},
   "source": [
    "Найдем среднеквадратичное отклонение:"
   ]
  },
  {
   "cell_type": "code",
   "execution_count": 112,
   "id": "198f3d45-2c0e-4081-ac05-ac4c610d685f",
   "metadata": {},
   "outputs": [
    {
     "name": "stdout",
     "output_type": "stream",
     "text": [
      "Среднеквадратичное отклонение: 0.13\n"
     ]
    }
   ],
   "source": [
    "sigma = np.round(np.sqrt(np.sum(np.power(result - g_average, 2)) * 1/np.size(result)), 2)\n",
    "print(f'Среднеквадратичное отклонение: {sigma}')"
   ]
  },
  {
   "cell_type": "markdown",
   "id": "a90458da-b9e1-4d2a-bcdc-0ec0d1782081",
   "metadata": {},
   "source": [
    "$$ \\sigma_{\\overline g} = 0.13 $$"
   ]
  },
  {
   "cell_type": "markdown",
   "id": "b4050504-526e-4f12-ac07-32b146d20135",
   "metadata": {},
   "source": [
    "Итого имеем:\n",
    "$$ g = \\overline g \\pm \\sigma_{\\overline g} = 9.59 \\pm 0.13 $$"
   ]
  }
 ],
 "metadata": {
  "kernelspec": {
   "display_name": "Python 3 (ipykernel)",
   "language": "python",
   "name": "python3"
  },
  "language_info": {
   "codemirror_mode": {
    "name": "ipython",
    "version": 3
   },
   "file_extension": ".py",
   "mimetype": "text/x-python",
   "name": "python",
   "nbconvert_exporter": "python",
   "pygments_lexer": "ipython3",
   "version": "3.11.5"
  }
 },
 "nbformat": 4,
 "nbformat_minor": 5
}
